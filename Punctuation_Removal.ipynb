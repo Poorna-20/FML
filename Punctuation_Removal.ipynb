{
  "nbformat": 4,
  "nbformat_minor": 0,
  "metadata": {
    "colab": {
      "provenance": [],
      "authorship_tag": "ABX9TyN35Jfumj1ZgW4Gtgq3zgOv",
      "include_colab_link": true
    },
    "kernelspec": {
      "name": "python3",
      "display_name": "Python 3"
    },
    "language_info": {
      "name": "python"
    }
  },
  "cells": [
    {
      "cell_type": "markdown",
      "metadata": {
        "id": "view-in-github",
        "colab_type": "text"
      },
      "source": [
        "<a href=\"https://colab.research.google.com/github/Poorna-20/FML/blob/main/Punctuation_Removal.ipynb\" target=\"_parent\"><img src=\"https://colab.research.google.com/assets/colab-badge.svg\" alt=\"Open In Colab\"/></a>"
      ]
    },
    {
      "cell_type": "code",
      "execution_count": 3,
      "metadata": {
        "colab": {
          "base_uri": "https://localhost:8080/"
        },
        "id": "pYVIZS8huI57",
        "outputId": "1f32a43f-e969-48e0-84c7-1f774faee2b1"
      },
      "outputs": [
        {
          "output_type": "stream",
          "name": "stdout",
          "text": [
            "Hello   How   Are You     Iam Fine i think  you are good\n"
          ]
        }
      ],
      "source": [
        "import re\n",
        "text = '''Hello ! How [ Are You ] ? Iam Fine.i think, you are good'''\n",
        "remove = re.sub(r'[^\\w\\s]',' ',text)\n",
        "print(remove)\n",
        "\n"
      ]
    }
  ]
}