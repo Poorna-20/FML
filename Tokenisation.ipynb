{
  "nbformat": 4,
  "nbformat_minor": 0,
  "metadata": {
    "colab": {
      "provenance": [],
      "authorship_tag": "ABX9TyMWBtKaf5ptl/BZI/EFua3j",
      "include_colab_link": true
    },
    "kernelspec": {
      "name": "python3",
      "display_name": "Python 3"
    },
    "language_info": {
      "name": "python"
    }
  },
  "cells": [
    {
      "cell_type": "markdown",
      "metadata": {
        "id": "view-in-github",
        "colab_type": "text"
      },
      "source": [
        "<a href=\"https://colab.research.google.com/github/Poorna-20/FML/blob/main/Tokenisation.ipynb\" target=\"_parent\"><img src=\"https://colab.research.google.com/assets/colab-badge.svg\" alt=\"Open In Colab\"/></a>"
      ]
    },
    {
      "cell_type": "markdown",
      "source": [
        "## **Tokenization Using Python split() Function**"
      ],
      "metadata": {
        "id": "etiTbhx4SBrW"
      }
    },
    {
      "cell_type": "code",
      "execution_count": null,
      "metadata": {
        "colab": {
          "base_uri": "https://localhost:8080/"
        },
        "id": "Bmeo7PNlR0hT",
        "outputId": "ca94dd09-3921-4398-c292-46c294f2b0b4"
      },
      "outputs": [
        {
          "output_type": "stream",
          "name": "stdout",
          "text": [
            "['a', 'set', 'of', 'words', 'that', 'is', 'complete', 'in', 'itself,', 'typically', 'containing', 'a', 'subject', 'and', 'predicate,', 'conveying', 'a', 'statement,', 'question,', 'exclamation,', 'or', 'command,', 'and', 'consisting', 'of', 'a', 'main', 'clause', 'and', 'sometimes', 'one', 'or', 'more', 'subordinate', 'clauses.']\n",
            "No.Of Tokens :  35\n"
          ]
        }
      ],
      "source": [
        "text = '''a set of words that is complete in itself, typically containing a subject and predicate, conveying a statement, question, exclamation, or command, and consisting of a main clause and sometimes one or more subordinate clauses.'''\n",
        "\n",
        "tokens = text.split()\n",
        "print(tokens)\n",
        "print(\"No.Of Tokens : \",len(tokens))"
      ]
    },
    {
      "cell_type": "code",
      "source": [
        "text = '''a set of words that is complete in itself, typically containing a subject and predicate. conveying a statement, question, exclamation, or command, and consisting of a main clause and sometimes one or more subordinate clauses'''\n",
        "\n",
        "sentence = text.split(\".\")\n",
        "print(sentence)\n",
        "print(\"No.Of Sentences : \",len(sentence))"
      ],
      "metadata": {
        "colab": {
          "base_uri": "https://localhost:8080/"
        },
        "id": "b4PPcAw4TIYd",
        "outputId": "ec60719a-3154-42bc-ccb2-50afc5284936"
      },
      "execution_count": null,
      "outputs": [
        {
          "output_type": "stream",
          "name": "stdout",
          "text": [
            "['a set of words that is complete in itself, typically containing a subject and predicate', ' conveying a statement, question, exclamation, or command, and consisting of a main clause and sometimes one or more subordinate clauses']\n",
            "No.Of Sentences :  2\n"
          ]
        }
      ]
    },
    {
      "cell_type": "markdown",
      "source": [
        "##**2.Tokenisation Using Regular Expressions**"
      ],
      "metadata": {
        "id": "5yy_z385T4rC"
      }
    },
    {
      "cell_type": "code",
      "source": [
        "import re\n",
        "tokens = re.findall(\"[\\w']+\",text)\n",
        "print(tokens)\n",
        "print(\"No.Of Tokens : \",len(tokens))"
      ],
      "metadata": {
        "colab": {
          "base_uri": "https://localhost:8080/"
        },
        "id": "nzXqLeXgTuIO",
        "outputId": "fdefe8c9-c956-4d26-81a0-be8512fe7647"
      },
      "execution_count": null,
      "outputs": [
        {
          "output_type": "stream",
          "name": "stdout",
          "text": [
            "['a', 'set', 'of', 'words', 'that', 'is', 'complete', 'in', 'itself', 'typically', 'containing', 'a', 'subject', 'and', 'predicate', 'conveying', 'a', 'statement', 'question', 'exclamation', 'or', 'command', 'and', 'consisting', 'of', 'a', 'main', 'clause', 'and', 'sometimes', 'one', 'or', 'more', 'subordinate', 'clauses']\n",
            "No.Of Tokens :  35\n"
          ]
        }
      ]
    },
    {
      "cell_type": "code",
      "source": [
        "sentence = re.compile('[.?!]').split(text)\n",
        "print(sentence)\n",
        "print(\"No.of sentences : \", len(sentence))"
      ],
      "metadata": {
        "colab": {
          "base_uri": "https://localhost:8080/"
        },
        "id": "oQoHBm1SYBZe",
        "outputId": "3f5d8819-4b5a-45eb-c21b-21f8e350daf1"
      },
      "execution_count": null,
      "outputs": [
        {
          "output_type": "stream",
          "name": "stdout",
          "text": [
            "['a set of words that is complete in itself, typically containing a subject and predicate', ' conveying a statement, question, exclamation, or command, and consisting of a main clause and sometimes one or more subordinate clauses']\n",
            "No.of sentences :  2\n"
          ]
        }
      ]
    },
    {
      "cell_type": "code",
      "source": [
        "!pip install --user -U nltk"
      ],
      "metadata": {
        "id": "A0maZZBSfTbC"
      },
      "execution_count": null,
      "outputs": []
    },
    {
      "cell_type": "code",
      "source": [
        "import nltk\n",
        "nltk.download('punkt')"
      ],
      "metadata": {
        "id": "-bz-aDKCgGfP"
      },
      "execution_count": null,
      "outputs": []
    },
    {
      "cell_type": "code",
      "source": [
        "from nltk.tokenize import word_tokenize \n",
        "tokens = word_tokenize(text)\n",
        "print(tokens)\n",
        "print(\"No.of tokens : \", len(tokens))"
      ],
      "metadata": {
        "colab": {
          "base_uri": "https://localhost:8080/"
        },
        "id": "EzXTBWU9gK6h",
        "outputId": "96456d18-6730-4f71-a588-41e970efe71a"
      },
      "execution_count": null,
      "outputs": [
        {
          "output_type": "stream",
          "name": "stdout",
          "text": [
            "['a', 'set', 'of', 'words', 'that', 'is', 'complete', 'in', 'itself', ',', 'typically', 'containing', 'a', 'subject', 'and', 'predicate', '.', 'conveying', 'a', 'statement', ',', 'question', ',', 'exclamation', ',', 'or', 'command', ',', 'and', 'consisting', 'of', 'a', 'main', 'clause', 'and', 'sometimes', 'one', 'or', 'more', 'subordinate', 'clauses']\n",
            "No.of tokens :  41\n"
          ]
        }
      ]
    },
    {
      "cell_type": "code",
      "source": [
        "from nltk.tokenize import sent_tokenize\n",
        "sentences = sent_tokenize(text)\n",
        "print(sentences)\n",
        "print(\"No.of sentences : \", len(sentences))"
      ],
      "metadata": {
        "colab": {
          "base_uri": "https://localhost:8080/"
        },
        "id": "fSuUxce0gN5w",
        "outputId": "55417b47-6bd6-4c83-d868-121a29b9f506"
      },
      "execution_count": null,
      "outputs": [
        {
          "output_type": "stream",
          "name": "stdout",
          "text": [
            "['a set of words that is complete in itself, typically containing a subject and predicate.', 'conveying a statement, question, exclamation, or command, and consisting of a main clause and sometimes one or more subordinate clauses']\n",
            "No.of sentences :  2\n"
          ]
        }
      ]
    }
  ]
}