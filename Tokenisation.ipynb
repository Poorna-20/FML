{
  "nbformat": 4,
  "nbformat_minor": 0,
  "metadata": {
    "colab": {
      "provenance": [],
      "authorship_tag": "ABX9TyMWBtKaf5ptl/BZI/EFua3j",
      "include_colab_link": true
    },
    "kernelspec": {
      "name": "python3",
      "display_name": "Python 3"
    },
    "language_info": {
      "name": "python"
    }
  },
  "cells": [
    {
      "cell_type": "markdown",
      "metadata": {
        "id": "view-in-github",
        "colab_type": "text"
      },
      "source": [
        "<a href=\"https://colab.research.google.com/github/Poorna-20/FML/blob/main/Tokenisation.ipynb\" target=\"_parent\"><img src=\"https://colab.research.google.com/assets/colab-badge.svg\" alt=\"Open In Colab\"/></a>"
      ]
    },
    {
      "cell_type": "markdown",
      "source": [
        "## **Tokenization Using Python split() Function**"
      ],
      "metadata": {
        "id": "etiTbhx4SBrW"
      }
    },
    {
      "cell_type": "code",
      "execution_count": 2,
      "metadata": {
        "colab": {
          "base_uri": "https://localhost:8080/"
        },
        "id": "Bmeo7PNlR0hT",
        "outputId": "ca94dd09-3921-4398-c292-46c294f2b0b4"
      },
      "outputs": [
        {
          "output_type": "stream",
          "name": "stdout",
          "text": [
            "['a', 'set', 'of', 'words', 'that', 'is', 'complete', 'in', 'itself,', 'typically', 'containing', 'a', 'subject', 'and', 'predicate,', 'conveying', 'a', 'statement,', 'question,', 'exclamation,', 'or', 'command,', 'and', 'consisting', 'of', 'a', 'main', 'clause', 'and', 'sometimes', 'one', 'or', 'more', 'subordinate', 'clauses.']\n",
            "No.Of Tokens :  35\n"
          ]
        }
      ],
      "source": [
        "text = '''a set of words that is complete in itself, typically containing a subject and predicate, conveying a statement, question, exclamation, or command, and consisting of a main clause and sometimes one or more subordinate clauses.'''\n",
        "\n",
        "tokens = text.split()\n",
        "print(tokens)\n",
        "print(\"No.Of Tokens : \",len(tokens))"
      ]
    },
    {
      "cell_type": "code",
      "source": [
        "text = '''a set of words that is complete in itself, typically containing a subject and predicate. conveying a statement, question, exclamation, or command, and consisting of a main clause and sometimes one or more subordinate clauses'''\n",
        "\n",
        "sentence = text.split(\".\")\n",
        "print(sentence)\n",
        "print(\"No.Of Sentences : \",len(sentence))"
      ],
      "metadata": {
        "colab": {
          "base_uri": "https://localhost:8080/"
        },
        "id": "b4PPcAw4TIYd",
        "outputId": "ec60719a-3154-42bc-ccb2-50afc5284936"
      },
      "execution_count": 5,
      "outputs": [
        {
          "output_type": "stream",
          "name": "stdout",
          "text": [
            "['a set of words that is complete in itself, typically containing a subject and predicate', ' conveying a statement, question, exclamation, or command, and consisting of a main clause and sometimes one or more subordinate clauses']\n",
            "No.Of Sentences :  2\n"
          ]
        }
      ]
    },
    {
      "cell_type": "markdown",
      "source": [
        "##**2.Tokenisation Using Regular Expressions**"
      ],
      "metadata": {
        "id": "5yy_z385T4rC"
      }
    },
    {
      "cell_type": "code",
      "source": [
        "import re\n",
        "tokens = re.findall(\"[\\w']+\",text)\n",
        "print(tokens)\n",
        "print(\"No.Of Tokens : \",len(tokens))"
      ],
      "metadata": {
        "colab": {
          "base_uri": "https://localhost:8080/"
        },
        "id": "nzXqLeXgTuIO",
        "outputId": "fdefe8c9-c956-4d26-81a0-be8512fe7647"
      },
      "execution_count": 11,
      "outputs": [
        {
          "output_type": "stream",
          "name": "stdout",
          "text": [
            "['a', 'set', 'of', 'words', 'that', 'is', 'complete', 'in', 'itself', 'typically', 'containing', 'a', 'subject', 'and', 'predicate', 'conveying', 'a', 'statement', 'question', 'exclamation', 'or', 'command', 'and', 'consisting', 'of', 'a', 'main', 'clause', 'and', 'sometimes', 'one', 'or', 'more', 'subordinate', 'clauses']\n",
            "No.Of Tokens :  35\n"
          ]
        }
      ]
    },
    {
      "cell_type": "code",
      "source": [
        "sentence = re.compile('[.?!]').split(text)\n",
        "print(sentence)\n",
        "print(\"No.of sentences : \", len(sentence))"
      ],
      "metadata": {
        "colab": {
          "base_uri": "https://localhost:8080/"
        },
        "id": "oQoHBm1SYBZe",
        "outputId": "3f5d8819-4b5a-45eb-c21b-21f8e350daf1"
      },
      "execution_count": 14,
      "outputs": [
        {
          "output_type": "stream",
          "name": "stdout",
          "text": [
            "['a set of words that is complete in itself, typically containing a subject and predicate', ' conveying a statement, question, exclamation, or command, and consisting of a main clause and sometimes one or more subordinate clauses']\n",
            "No.of sentences :  2\n"
          ]
        }
      ]
    },
    {
      "cell_type": "code",
      "source": [
        "!pip install --user -U nltk"
      ],
      "metadata": {
        "colab": {
          "base_uri": "https://localhost:8080/"
        },
        "id": "A0maZZBSfTbC",
        "outputId": "f30e47fb-d2a7-45a2-8113-c0db7e86051f"
      },
      "execution_count": 15,
      "outputs": [
        {
          "output_type": "stream",
          "name": "stdout",
          "text": [
            "Looking in indexes: https://pypi.org/simple, https://us-python.pkg.dev/colab-wheels/public/simple/\n",
            "Requirement already satisfied: nltk in /usr/local/lib/python3.10/dist-packages (3.8.1)\n",
            "Requirement already satisfied: click in /usr/local/lib/python3.10/dist-packages (from nltk) (8.1.3)\n",
            "Requirement already satisfied: joblib in /usr/local/lib/python3.10/dist-packages (from nltk) (1.2.0)\n",
            "Requirement already satisfied: regex>=2021.8.3 in /usr/local/lib/python3.10/dist-packages (from nltk) (2022.10.31)\n",
            "Requirement already satisfied: tqdm in /usr/local/lib/python3.10/dist-packages (from nltk) (4.65.0)\n"
          ]
        }
      ]
    },
    {
      "cell_type": "code",
      "source": [
        "import nltk\n",
        "nltk.download('punkt')"
      ],
      "metadata": {
        "colab": {
          "base_uri": "https://localhost:8080/"
        },
        "id": "-bz-aDKCgGfP",
        "outputId": "27c847a5-6293-4a77-8931-632cba672d8d"
      },
      "execution_count": 16,
      "outputs": [
        {
          "output_type": "stream",
          "name": "stderr",
          
        },
        {
          "output_type": "execute_result",
          "data": {
            "text/plain": [
              "True"
            ]
          },
          "metadata": {},
          "execution_count": 16
        }
      ]
    },
    {
      "cell_type": "code",
      "source": [
        "from nltk.tokenize import word_tokenize \n",
        "tokens = word_tokenize(text)\n",
        "print(tokens)\n",
        "print(\"No.of tokens : \", len(tokens))"
      ],
      "metadata": {
        "colab": {
          "base_uri": "https://localhost:8080/"
        },
        "id": "EzXTBWU9gK6h",
        "outputId": "96456d18-6730-4f71-a588-41e970efe71a"
      },
      "execution_count": 17,
      "outputs": [
        {
          "output_type": "stream",
          "name": "stdout",
          "text": [
            "['a', 'set', 'of', 'words', 'that', 'is', 'complete', 'in', 'itself', ',', 'typically', 'containing', 'a', 'subject', 'and', 'predicate', '.', 'conveying', 'a', 'statement', ',', 'question', ',', 'exclamation', ',', 'or', 'command', ',', 'and', 'consisting', 'of', 'a', 'main', 'clause', 'and', 'sometimes', 'one', 'or', 'more', 'subordinate', 'clauses']\n",
            "No.of tokens :  41\n"
          ]
        }
      ]
    },
    {
      "cell_type": "code",
      "source": [
        "from nltk.tokenize import sent_tokenize\n",
        "sentences = sent_tokenize(text)\n",
        "print(sentences)\n",
        "print(\"No.of sentences : \", len(sentences))"
      ],
      "metadata": {
        "colab": {
          "base_uri": "https://localhost:8080/"
        },
        "id": "fSuUxce0gN5w",
        "outputId": "55417b47-6bd6-4c83-d868-121a29b9f506"
      },
      "execution_count": 18,
      "outputs": [
        {
          "output_type": "stream",
          "name": "stdout",
          "text": [
            "['a set of words that is complete in itself, typically containing a subject and predicate.', 'conveying a statement, question, exclamation, or command, and consisting of a main clause and sometimes one or more subordinate clauses']\n",
            "No.of sentences :  2\n"
          ]
        }
      ]
    }
  ]
}
